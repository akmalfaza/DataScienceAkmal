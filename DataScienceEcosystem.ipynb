{
 "cells": [
  {
   "cell_type": "markdown",
   "id": "9bd10979-bb2f-4be9-9e39-00ce4b318eee",
   "metadata": {},
   "source": [
    "# Data Science Tools and Ecosystem"
   ]
  },
  {
   "cell_type": "markdown",
   "id": "5034cf01-5da2-4a8e-a884-42f61d938675",
   "metadata": {},
   "source": [
    "## Author\n",
    "#### Akmal Faza"
   ]
  },
  {
   "cell_type": "markdown",
   "id": "638e57ad-7f7d-47e7-af0b-1698b8af280c",
   "metadata": {},
   "source": [
    "#### In this notebook, Data Science Tools and Ecosystem are summarized."
   ]
  },
  {
   "cell_type": "markdown",
   "id": "5b44b76d-28b8-429b-9959-2d8ff920dbf0",
   "metadata": {
    "tags": []
   },
   "source": [
    "**Objectives:**"
   ]
  },
  {
   "cell_type": "markdown",
   "id": "9286a790-73cd-499d-984e-007175c263a4",
   "metadata": {},
   "source": [
    "- List popular languages for Data Science\n",
    "- List popular data science libraries\n",
    "- Table of Data Science tools\n",
    "- Arithmetic expression examples\n",
    "- Multiply and add numbers example\n",
    "\n"
   ]
  },
  {
   "cell_type": "markdown",
   "id": "84163299-9bca-4e83-a5d6-16a452ac14a3",
   "metadata": {},
   "source": [
    "##### Some of the popular languages that Data Scientists use are:"
   ]
  },
  {
   "cell_type": "markdown",
   "id": "b9a52173-b304-4b58-9439-1abd39f1e496",
   "metadata": {
    "tags": []
   },
   "source": [
    "1. python\n",
    "2. R\n",
    "3. Julia"
   ]
  },
  {
   "cell_type": "markdown",
   "id": "a1b28228-fc2b-4f63-bb1a-edbb90fda5fd",
   "metadata": {},
   "source": [
    "##### Some of the commonly used libraries used by Data Scientists include:"
   ]
  },
  {
   "cell_type": "markdown",
   "id": "89b70705-ec0c-4ca8-91c0-77225e93642f",
   "metadata": {},
   "source": [
    "1. numpy\n",
    "2. matplotlib\n",
    "3. tensorflow"
   ]
  },
  {
   "cell_type": "markdown",
   "id": "1387af72-541f-4fc6-8ba4-6ddf3ebab24c",
   "metadata": {},
   "source": [
    "| Data Science Tools |\n",
    "| ----- |\n",
    "| Jupyter Notebook |\n",
    "| IBM DB2 |\n",
    "| Python |"
   ]
  },
  {
   "cell_type": "markdown",
   "id": "ab12063d-757d-420a-82a2-ab52d2ecb0b1",
   "metadata": {},
   "source": [
    "### Below are a few examples of evaluating arithmetic expressions in Python"
   ]
  },
  {
   "cell_type": "code",
   "execution_count": 6,
   "id": "3e251cbb-86b2-4f11-9d06-bf49cbb1b5b2",
   "metadata": {
    "tags": []
   },
   "outputs": [
    {
     "data": {
      "text/plain": [
       "17"
      ]
     },
     "execution_count": 6,
     "metadata": {},
     "output_type": "execute_result"
    }
   ],
   "source": [
    "# This a simple arithmetic expression to mutiply then add integers\n",
    "\n",
    "(3*4)+5"
   ]
  },
  {
   "cell_type": "code",
   "execution_count": 8,
   "id": "f0b88283-72d4-411e-bd24-857f4dcdc280",
   "metadata": {
    "tags": []
   },
   "outputs": [
    {
     "data": {
      "text/plain": [
       "3"
      ]
     },
     "execution_count": 8,
     "metadata": {},
     "output_type": "execute_result"
    }
   ],
   "source": [
    "# This will convert 200 minutes to hours by diving by 60\n",
    "\n",
    "200 // 60"
   ]
  },
  {
   "cell_type": "markdown",
   "id": "5173df75-5155-43c2-b611-2328a4f6a04d",
   "metadata": {},
   "source": []
  }
 ],
 "metadata": {
  "kernelspec": {
   "display_name": "Python",
   "language": "python",
   "name": "conda-env-python-py"
  },
  "language_info": {
   "codemirror_mode": {
    "name": "ipython",
    "version": 3
   },
   "file_extension": ".py",
   "mimetype": "text/x-python",
   "name": "python",
   "nbconvert_exporter": "python",
   "pygments_lexer": "ipython3",
   "version": "3.7.12"
  }
 },
 "nbformat": 4,
 "nbformat_minor": 5
}
